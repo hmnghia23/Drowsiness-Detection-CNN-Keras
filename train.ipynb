{
 "cells": [
  {
   "cell_type": "code",
   "execution_count": 1,
   "metadata": {},
   "outputs": [],
   "source": [
    "import matplotlib.pyplot as plt\n",
    "from tensorflow.keras.preprocessing.image import ImageDataGenerator\n",
    "from tensorflow.keras.models import Sequential\n",
    "from tensorflow.keras.layers import Conv2D, MaxPooling2D, Flatten, Dense, Dropout\n",
    "from tensorflow.keras.optimizers import Adam\n",
    "from tensorflow.keras.callbacks import ModelCheckpoint"
   ]
  },
  {
   "cell_type": "code",
   "execution_count": 2,
   "metadata": {},
   "outputs": [],
   "source": [
    "train_augmentation = ImageDataGenerator(rescale=1./255, \n",
    "\t\t\t\t\t\t\t\t\trotation_range=40, \n",
    "\t\t\t\t\t\t\t\t\twidth_shift_range=0.2, \n",
    "\t\t\t\t\t\t\t\t\theight_shift_range=0.2,\n",
    "            \t\t\t\t\t\tshear_range=0.2, \n",
    "            \t\t\t\t\t\tzoom_range=0.2, \n",
    "            \t\t\t\t\t\thorizontal_flip=True, \n",
    "            \t\t\t\t\t\tfill_mode='nearest')                  \n",
    "val_augmentation = ImageDataGenerator(rescale=1./255)"
   ]
  },
  {
   "cell_type": "code",
   "execution_count": null,
   "metadata": {},
   "outputs": [],
   "source": [
    "train_generator = train_augmentation.flow_from_directory('data/images/train/', \n",
    "\t\t\t\t\t\t\t\t\t\ttarget_size=(128, 128), \n",
    "\t\t\t\t\t\t\t\t\t\tbatch_size=32, \n",
    "            \t\t\t\t\t\t\tclass_mode='binary',\n",
    "\t\t\t\t\t\t\t\t\t\tcolor_mode='grayscale')\n",
    "\n",
    "val_generator = val_augmentation.flow_from_directory('data/images/val/', \n",
    "\t\t\t\t\t\t\t\t\t\ttarget_size=(128, 128), \n",
    "\t\t\t\t\t\t\t\t\t\tbatch_size=32,\n",
    "            \t\t\t\t\t\t\tclass_mode='binary',\n",
    "\t\t\t\t\t\t\t\t\t\tcolor_mode='grayscale')"
   ]
  },
  {
   "cell_type": "code",
   "execution_count": null,
   "metadata": {},
   "outputs": [],
   "source": [
    "train_generator.class_indices"
   ]
  },
  {
   "cell_type": "code",
   "execution_count": 5,
   "metadata": {},
   "outputs": [],
   "source": [
    "model = Sequential()\n",
    "model.add(Conv2D(32, (3, 3), padding='same', activation='relu', input_shape=(128, 128, 1)))\n",
    "model.add(MaxPooling2D((2, 2)))\n",
    "model.add(Conv2D(64, (3, 3), padding='same', activation='relu'))\n",
    "model.add(MaxPooling2D((2, 2)))\n",
    "model.add(Conv2D(128, (3, 3), padding='same', activation='relu'))\n",
    "model.add(MaxPooling2D((2, 2)))\n",
    "model.add(Conv2D(128, (3, 3), padding='same', activation='relu'))\n",
    "model.add(MaxPooling2D((2, 2)))\n",
    "model.add(Flatten())\n",
    "model.add(Dropout(0.5))\n",
    "model.add(Dense(512, activation='relu'))\n",
    "model.add(Dense(1, activation='sigmoid'))"
   ]
  },
  {
   "cell_type": "code",
   "execution_count": null,
   "metadata": {},
   "outputs": [],
   "source": [
    "model.summary()"
   ]
  },
  {
   "cell_type": "code",
   "execution_count": 7,
   "metadata": {},
   "outputs": [],
   "source": [
    "model.compile(loss='binary_crossentropy', optimizer=Adam(learning_rate=0.001), metrics=['accuracy'])"
   ]
  },
  {
   "cell_type": "code",
   "execution_count": 8,
   "metadata": {},
   "outputs": [],
   "source": [
    "checkpoint = 'model/model-{epoch:03d}.h5'\n",
    "model_checkpoint = ModelCheckpoint(filepath=checkpoint,\n",
    "                                save_weights_only=False,\n",
    "                                verbose=1,\n",
    "                                monitor='val_accuracy',\n",
    "                                mode='auto',\n",
    "                                save_freq=1000)"
   ]
  },
  {
   "cell_type": "code",
   "execution_count": null,
   "metadata": {},
   "outputs": [],
   "source": [
    "history = model.fit(train_generator, \n",
    "                steps_per_epoch=100,\n",
    "                epochs=100, \n",
    "                validation_data=val_generator, \n",
    "                validation_steps=50, \n",
    "                callbacks=model_checkpoint)"
   ]
  }
 ],
 "metadata": {
  "interpreter": {
   "hash": "fcf1d46d271c46101d6967829d4a5f475342a2ce08e4944f989fbcdc9bb23690"
  },
  "kernelspec": {
   "display_name": "Python 3.9.7 64-bit",
   "name": "python3"
  },
  "language_info": {
   "codemirror_mode": {
    "name": "ipython",
    "version": 3
   },
   "file_extension": ".py",
   "mimetype": "text/x-python",
   "name": "python",
   "nbconvert_exporter": "python",
   "pygments_lexer": "ipython3",
   "version": "3.9.7"
  },
  "orig_nbformat": 4
 },
 "nbformat": 4,
 "nbformat_minor": 2
}
